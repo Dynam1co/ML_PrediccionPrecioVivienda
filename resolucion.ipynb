{
 "cells": [
  {
   "cell_type": "markdown",
   "metadata": {},
   "source": [
    "# Marco del problema\n",
    "\n",
    "El objetivo es predecir el precio del airbnb utilizando los datos disponibles.\n",
    "\n",
    "En este caso, estamos hablando de un problema supervisado, ya que los datos están etiquetados para el entrenamiento. Al ser un problema de predicción, estamos ante un caso de regresión, concretamente, de regresión múltiple, ya que tenemos varias características para predecir el valor. Como solamente tenemos que predecir un valor, estamos hablando de una regresión univariante.\n",
    "\n",
    "Al tratarse de un problema de regresión, tomaremos como medida de confianza el error cuadrático medio **RMSE**"
   ]
  },
  {
   "cell_type": "markdown",
   "metadata": {},
   "source": [
    "# Carga de datos\n",
    "\n",
    "Cargamos los datos del dataset usando Pandas, creamos una función para ello"
   ]
  },
  {
   "cell_type": "code",
   "execution_count": 1,
   "metadata": {},
   "outputs": [],
   "source": [
    "import pandas as pd\n",
    "import os\n",
    "\n",
    "# Carga el dataset y devuelve un dataframe de Pandas\n",
    "def load_airbnb_dataset(ruta):\n",
    "    csv_path = os.path.join(ruta, \"airbnb-listings.csv\")\n",
    "    return pd.read_csv(csv_path, sep=';')"
   ]
  },
  {
   "cell_type": "code",
   "execution_count": 2,
   "metadata": {},
   "outputs": [
    {
     "data": {
      "text/plain": "<bound method NDFrame.head of              ID                            Listing Url       Scrape ID  \\\n0      11210388  https://www.airbnb.com/rooms/11210388  20170306202425   \n1      17471131  https://www.airbnb.com/rooms/17471131  20170407214050   \n2      17584891  https://www.airbnb.com/rooms/17584891  20170407214050   \n3       5398030   https://www.airbnb.com/rooms/5398030  20170407214050   \n4      18104606  https://www.airbnb.com/rooms/18104606  20170407214050   \n...         ...                                    ...             ...   \n14775   2098030   https://www.airbnb.com/rooms/2098030  20170502132028   \n14776  17989442  https://www.airbnb.com/rooms/17989442  20170404145355   \n14777  13278634  https://www.airbnb.com/rooms/13278634  20170404145355   \n14778  10733941  https://www.airbnb.com/rooms/10733941  20160516142622   \n14779   4637801   https://www.airbnb.com/rooms/4637801  20160104002432   \n\n      Last Scraped                                         Name  \\\n0       2017-03-07               The Loft-Full Bath-Deck w/View   \n1       2017-04-08                   Claris I, Friendly Rentals   \n2       2017-04-08          Style Terrace Red, Friendly Rentals   \n3       2017-04-08            Picasso Suite 1.4 Paseo de Gracia   \n4       2017-04-08               Smart City Centre Apartment II   \n...            ...                                          ...   \n14775   2017-05-02                        Spring into Bed Stuy!   \n14776   2017-04-06  Paris 15 - Chambre cosy , near Eiffel tower   \n14777   2017-04-05            Cozy Appartment Paris Batignolles   \n14778   2016-05-18                City Park West Victorian Flat   \n14779   2016-01-04          Sunny room near UW + buses downtown   \n\n                                                 Summary  \\\n0      Loft in the Hill country 12-15 minutes directl...   \n1      This apartment has: 1 double bed, 1 double sof...   \n2      This apartment has: 1 double bed, 1 double sof...   \n3      Live like a local in Barcelona's most chic dis...   \n4      Unique apartment in vibrant neighborhoods, car...   \n...                                                  ...   \n14775  Sometimes I rent as a host (I'm here, guest st...   \n14776  Paris- 15 -Résidence privée(code & gardien). Q...   \n14777  Cozy 2 bedroom apartment in core of Batignoles...   \n14778  The space is in an older Victorian home, with ...   \n14779  Private room (SUNROOM IS USED FOR STORAGE AT T...   \n\n                                                   Space  \\\n0      This loft has a spectacular view of the hills ...   \n1      This apartment has: 1 double bed, 1 double sof...   \n2      This apartment has: 1 double bed, 1 double sof...   \n3      You wake up to the sun rising over Barcelona's...   \n4      License: HUTB-005313 Charming apartment, locat...   \n...                                                  ...   \n14775  Simple, clean, modern one-bedroom in beautiful...   \n14776  J'ai vécu au Canada, à Londres ,Madrid  J'ai v...   \n14777  Very functional apartment in one of the most c...   \n14778                                                NaN   \n14779  This is a 1920's house I bought recently and i...   \n\n                                             Description Experiences Offered  \\\n0      Loft in the Hill country 12-15 minutes directl...                none   \n1      This apartment has: 1 double bed, 1 double sof...                none   \n2      This apartment has: 1 double bed, 1 double sof...                none   \n3      Live like a local in Barcelona's most chic dis...                none   \n4      Unique apartment in vibrant neighborhoods, car...                none   \n...                                                  ...                 ...   \n14775  Sometimes I rent as a host (I'm here, guest st...                none   \n14776  Paris- 15 -Résidence privée(code & gardien). Q...                none   \n14777  Very functional apartment in one of the most c...                none   \n14778  The space is in an older Victorian home, with ...                none   \n14779  Private room (SUNROOM IS USED FOR STORAGE AT T...                none   \n\n                                   Neighborhood Overview  ...  \\\n0      This neighborhood is located in the hills west...  ...   \n1      Plaza   Cataluña Catalonia Square is the large...  ...   \n2      Plaza   Cataluña Catalonia Square is the large...  ...   \n3      We're right in the heart of the chic L'Eixampl...  ...   \n4                                                    NaN  ...   \n...                                                  ...  ...   \n14775  There are plenty of restaurants, bars and othe...  ...   \n14776  Quartier agréable par son côté résidentiel et ...  ...   \n14777  One of the most beautiful neighborhoods in Par...  ...   \n14778                                                NaN  ...   \n14779  This is a residential neighborhood of Seattle ...  ...   \n\n      Review Scores Communication Review Scores Location Review Scores Value  \\\n0                            10.0                   10.0                10.0   \n1                            10.0                    8.0                10.0   \n2                             NaN                    NaN                 NaN   \n3                            10.0                   10.0                 9.0   \n4                             NaN                    NaN                 NaN   \n...                           ...                    ...                 ...   \n14775                        10.0                    9.0                10.0   \n14776                         NaN                    NaN                 NaN   \n14777                        10.0                   10.0                10.0   \n14778                        10.0                   10.0                10.0   \n14779                        10.0                   10.0                 9.0   \n\n           License Jurisdiction Names Cancellation Policy  \\\n0              NaN                NaN            moderate   \n1      HUTB-006721                NaN     super_strict_30   \n2      HUTB-007527                NaN     super_strict_30   \n3              NaN                NaN              strict   \n4              NaN                NaN            flexible   \n...            ...                ...                 ...   \n14775          NaN                NaN              strict   \n14776          NaN              Paris            flexible   \n14777          NaN                NaN              strict   \n14778          NaN                NaN            moderate   \n14779          NaN         WASHINGTON            flexible   \n\n      Calculated host listings count Reviews per Month  \\\n0                                1.0              3.50   \n1                              106.0              0.86   \n2                              106.0               NaN   \n3                               24.0              1.09   \n4                               92.0               NaN   \n...                              ...               ...   \n14775                            1.0              0.74   \n14776                            1.0               NaN   \n14777                            1.0              2.63   \n14778                            1.0              0.94   \n14779                            1.0              1.59   \n\n                        Geolocation  \\\n0      30.3373609355,-97.8632766782   \n1       41.3896829422,2.17262543017   \n2       41.3930345489,2.16217327868   \n3        41.3969668101,2.1674178103   \n4       41.3886851936,2.15514963616   \n...                             ...   \n14775    40.67894535,-73.9393421856   \n14776   48.8361969404,2.29404476423   \n14777   48.8888092157,2.31617315267   \n14778  39.7422046438,-104.959933049   \n14779  47.6723272189,-122.291451162   \n\n                                                Features  \n0      Host Is Superhost,Host Has Profile Pic,Host Id...  \n1      Host Has Profile Pic,Requires License,Instant ...  \n2      Host Has Profile Pic,Requires License,Instant ...  \n3      Host Has Profile Pic,Host Identity Verified,Re...  \n4      Host Has Profile Pic,Host Identity Verified,Is...  \n...                                                  ...  \n14775  Host Is Superhost,Host Has Profile Pic,Host Id...  \n14776  Host Has Profile Pic,Is Location Exact,Instant...  \n14777  Host Is Superhost,Host Has Profile Pic,Host Id...  \n14778  Host Has Profile Pic,Host Identity Verified,Is...  \n14779  Host Has Profile Pic,Host Identity Verified,Is...  \n\n[14780 rows x 89 columns]>"
     },
     "execution_count": 2,
     "metadata": {},
     "output_type": "execute_result"
    }
   ],
   "source": [
    "housing = load_airbnb_dataset('datasets')\n",
    "housing.head"
   ]
  },
  {
   "cell_type": "markdown",
   "execution_count": 21,
   "metadata": {},
   "outputs": [
    {
     "data": {
      "text/plain": [
       "0        11210388\n",
       "1        17471131\n",
       "2        17584891\n",
       "3         5398030\n",
       "4        18104606\n",
       "           ...   \n",
       "14775     2098030\n",
       "14776    17989442\n",
       "14777    13278634\n",
       "14778    10733941\n",
       "14779     4637801\n",
       "Name: ID, Length: 14780, dtype: int64"
      ]
     },
     "execution_count": 21,
     "metadata": {},
     "output_type": "execute_result"
    }
   ],
   "source": [
    "Al usar la instrucción **head** de Pandas, obtenemos una primera visión de los datos. \n",
    "\n",
    "Cada fila corresponde a un apartamento, la primera fila contiene los nombres de las columnas."
   ]
  },
  {
   "cell_type": "markdown",
   "execution_count": null,
   "metadata": {},
   "outputs": [],
   "source": [
    "# Estructura de los datos\n",
    "\n",
    "Con la instrucción **înfo** vemos una pequeña descripción de los datos."
   ]
  },
  {
   "cell_type": "code",
   "execution_count": 3,
   "metadata": {},
   "outputs": [
    {
     "name": "stdout",
     "output_type": "stream",
     "text": "<class 'pandas.core.frame.DataFrame'>\nRangeIndex: 14780 entries, 0 to 14779\nData columns (total 89 columns):\nID                                14780 non-null int64\nListing Url                       14780 non-null object\nScrape ID                         14780 non-null int64\nLast Scraped                      14780 non-null object\nName                              14779 non-null object\nSummary                           14189 non-null object\nSpace                             10888 non-null object\nDescription                       14774 non-null object\nExperiences Offered               14780 non-null object\nNeighborhood Overview             9134 non-null object\nNotes                             5644 non-null object\nTransit                           9066 non-null object\nAccess                            8318 non-null object\nInteraction                       8228 non-null object\nHouse Rules                       9619 non-null object\nThumbnail Url                     11960 non-null object\nMedium Url                        11960 non-null object\nPicture Url                       14761 non-null object\nXL Picture Url                    11960 non-null object\nHost ID                           14780 non-null int64\nHost URL                          14780 non-null object\nHost Name                         14777 non-null object\nHost Since                        14777 non-null object\nHost Location                     14737 non-null object\nHost About                        9539 non-null object\nHost Response Time                12881 non-null object\nHost Response Rate                12881 non-null float64\nHost Acceptance Rate              39 non-null object\nHost Thumbnail Url                14777 non-null object\nHost Picture Url                  14777 non-null object\nHost Neighbourhood                10904 non-null object\nHost Listings Count               14777 non-null float64\nHost Total Listings Count         14777 non-null float64\nHost Verifications                14774 non-null object\nStreet                            14780 non-null object\nNeighbourhood                     9551 non-null object\nNeighbourhood Cleansed            14780 non-null object\nNeighbourhood Group Cleansed      13760 non-null object\nCity                              14774 non-null object\nState                             14636 non-null object\nZipcode                           14274 non-null object\nMarket                            14723 non-null object\nSmart Location                    14780 non-null object\nCountry Code                      14780 non-null object\nCountry                           14779 non-null object\nLatitude                          14780 non-null float64\nLongitude                         14780 non-null float64\nProperty Type                     14780 non-null object\nRoom Type                         14780 non-null object\nAccommodates                      14780 non-null int64\nBathrooms                         14725 non-null float64\nBedrooms                          14755 non-null float64\nBeds                              14731 non-null float64\nBed Type                          14780 non-null object\nAmenities                         14610 non-null object\nSquare Feet                       598 non-null float64\nPrice                             14763 non-null float64\nWeekly Price                      3590 non-null float64\nMonthly Price                     3561 non-null float64\nSecurity Deposit                  6256 non-null float64\nCleaning Fee                      8687 non-null float64\nGuests Included                   14780 non-null int64\nExtra People                      14780 non-null int64\nMinimum Nights                    14780 non-null int64\nMaximum Nights                    14780 non-null int64\nCalendar Updated                  14780 non-null object\nHas Availability                  12 non-null object\nAvailability 30                   14780 non-null int64\nAvailability 60                   14780 non-null int64\nAvailability 90                   14780 non-null int64\nAvailability 365                  14780 non-null int64\nCalendar last Scraped             14780 non-null object\nNumber of Reviews                 14780 non-null int64\nFirst Review                      11618 non-null object\nLast Review                       11617 non-null object\nReview Scores Rating              11476 non-null float64\nReview Scores Accuracy            11454 non-null float64\nReview Scores Cleanliness         11460 non-null float64\nReview Scores Checkin             11443 non-null float64\nReview Scores Communication       11460 non-null float64\nReview Scores Location            11440 non-null float64\nReview Scores Value               11439 non-null float64\nLicense                           349 non-null object\nJurisdiction Names                227 non-null object\nCancellation Policy               14780 non-null object\nCalculated host listings count    14776 non-null float64\nReviews per Month                 11618 non-null float64\nGeolocation                       14780 non-null object\nFeatures                          14779 non-null object\ndtypes: float64(23), int64(13), object(53)\nmemory usage: 10.0+ MB\n"
    }
   ],
   "source": [
    "housing.info()"
   ]
  },
  {
   "cell_type": "markdown",
   "execution_count": null,
   "metadata": {},
   "outputs": [],
   "source": [
    "Vemos que tenemos un total de 89 variables y 14780 observaciones (muy pocas para los estándares de Machine Learning).\n",
    "\n",
    "Hay variables, por ejemplo **Has Availability** que solo tiene 12 valores no nulos.\n",
    "\n",
    "La variable a predecir **price** (de ahora en adelante **y**) tiene 14763 valores no nulos, por lo que hay 17 pisos sin precio.\n",
    "\n",
    "Hay muchas variables de tipo **object**, al leer desde un CSV, es posible que san variables de texto.\n",
    "\n",
    "Cuando hicimos el head, pudimos ver que la variable \"Cancellation Policy\" tiene valores repetitivos, por lo que podría ser categórica. Vamos a comprobar si hay más variables categóricas."
   ]
  },
  {
   "cell_type": "code",
   "execution_count": null,
   "metadata": {},
   "outputs": [],
   "source": []
  }
 ],
 "metadata": {
  "kernelspec": {
   "display_name": "Python 3",
   "language": "python",
   "name": "python3"
  },
  "language_info": {
   "codemirror_mode": {
    "name": "ipython",
    "version": 3
   },
   "file_extension": ".py",
   "mimetype": "text/x-python",
   "name": "python",
   "nbconvert_exporter": "python",
   "pygments_lexer": "ipython3",
   "version": "3.7.4"
  }
 },
 "nbformat": 4,
 "nbformat_minor": 2
}