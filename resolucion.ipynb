{
 "cells": [
  {
   "cell_type": "markdown",
   "metadata": {},
   "source": [
    "# Marco del problema\n",
    "\n",
    "El objetivo es predecir el precio del airbnb utilizando los datos disponibles.\n",
    "\n",
    "En este caso, estamos hablando de un problema supervisado, ya que los datos están etiquetados para el entrenamiento. Al ser un problema de predicción, estamos ante un caso de regresión, concretamente, de regresión múltiple, ya que tenemos varias características para predecir el valor. Como solamente tenemos que predecir un valor, estamos hablando de una regresión univariante.\n",
    "\n",
    "Al tratarse de un problema de regresión, tomaremos como medida de confianza el error cuadrático medio **RMSE**"
   ]
  },
  {
   "cell_type": "markdown",
   "metadata": {},
   "source": [
    "# Carga de datos\n",
    "\n",
    "Cargamos los datos del dataset usando Pandas, creamos una función para ello"
   ]
  },
  {
   "cell_type": "code",
   "execution_count": 4,
   "metadata": {},
   "outputs": [],
   "source": [
    "import pandas as pd\n",
    "import os\n",
    "\n",
    "# Carga el dataset y devuelve un dataframe de Pandas\n",
    "def load_airbnb_dataset(ruta):\n",
    "    csv_path = os.path.join(ruta, \"airbnb-listings.csv\")\n",
    "    return pd.read_csv(csv_path, sep=';')"
   ]
  },
  {
   "cell_type": "code",
   "execution_count": 5,
   "metadata": {},
   "outputs": [
    {
     "data": {
      "text/plain": "<bound method NDFrame.head of              ID                            Listing Url       Scrape ID  \\\n0      11210388  https://www.airbnb.com/rooms/11210388  20170306202425   \n1      17471131  https://www.airbnb.com/rooms/17471131  20170407214050   \n2      17584891  https://www.airbnb.com/rooms/17584891  20170407214050   \n3       5398030   https://www.airbnb.com/rooms/5398030  20170407214050   \n4      18104606  https://www.airbnb.com/rooms/18104606  20170407214050   \n...         ...                                    ...             ...   \n14775   2098030   https://www.airbnb.com/rooms/2098030  20170502132028   \n14776  17989442  https://www.airbnb.com/rooms/17989442  20170404145355   \n14777  13278634  https://www.airbnb.com/rooms/13278634  20170404145355   \n14778  10733941  https://www.airbnb.com/rooms/10733941  20160516142622   \n14779   4637801   https://www.airbnb.com/rooms/4637801  20160104002432   \n\n      Last Scraped                                         Name  \\\n0       2017-03-07               The Loft-Full Bath-Deck w/View   \n1       2017-04-08                   Claris I, Friendly Rentals   \n2       2017-04-08          Style Terrace Red, Friendly Rentals   \n3       2017-04-08            Picasso Suite 1.4 Paseo de Gracia   \n4       2017-04-08               Smart City Centre Apartment II   \n...            ...                                          ...   \n14775   2017-05-02                        Spring into Bed Stuy!   \n14776   2017-04-06  Paris 15 - Chambre cosy , near Eiffel tower   \n14777   2017-04-05            Cozy Appartment Paris Batignolles   \n14778   2016-05-18                City Park West Victorian Flat   \n14779   2016-01-04          Sunny room near UW + buses downtown   \n\n                                                 Summary  \\\n0      Loft in the Hill country 12-15 minutes directl...   \n1      This apartment has: 1 double bed, 1 double sof...   \n2      This apartment has: 1 double bed, 1 double sof...   \n3      Live like a local in Barcelona's most chic dis...   \n4      Unique apartment in vibrant neighborhoods, car...   \n...                                                  ...   \n14775  Sometimes I rent as a host (I'm here, guest st...   \n14776  Paris- 15 -Résidence privée(code & gardien). Q...   \n14777  Cozy 2 bedroom apartment in core of Batignoles...   \n14778  The space is in an older Victorian home, with ...   \n14779  Private room (SUNROOM IS USED FOR STORAGE AT T...   \n\n                                                   Space  \\\n0      This loft has a spectacular view of the hills ...   \n1      This apartment has: 1 double bed, 1 double sof...   \n2      This apartment has: 1 double bed, 1 double sof...   \n3      You wake up to the sun rising over Barcelona's...   \n4      License: HUTB-005313 Charming apartment, locat...   \n...                                                  ...   \n14775  Simple, clean, modern one-bedroom in beautiful...   \n14776  J'ai vécu au Canada, à Londres ,Madrid  J'ai v...   \n14777  Very functional apartment in one of the most c...   \n14778                                                NaN   \n14779  This is a 1920's house I bought recently and i...   \n\n                                             Description Experiences Offered  \\\n0      Loft in the Hill country 12-15 minutes directl...                none   \n1      This apartment has: 1 double bed, 1 double sof...                none   \n2      This apartment has: 1 double bed, 1 double sof...                none   \n3      Live like a local in Barcelona's most chic dis...                none   \n4      Unique apartment in vibrant neighborhoods, car...                none   \n...                                                  ...                 ...   \n14775  Sometimes I rent as a host (I'm here, guest st...                none   \n14776  Paris- 15 -Résidence privée(code & gardien). Q...                none   \n14777  Very functional apartment in one of the most c...                none   \n14778  The space is in an older Victorian home, with ...                none   \n14779  Private room (SUNROOM IS USED FOR STORAGE AT T...                none   \n\n                                   Neighborhood Overview  ...  \\\n0      This neighborhood is located in the hills west...  ...   \n1      Plaza   Cataluña Catalonia Square is the large...  ...   \n2      Plaza   Cataluña Catalonia Square is the large...  ...   \n3      We're right in the heart of the chic L'Eixampl...  ...   \n4                                                    NaN  ...   \n...                                                  ...  ...   \n14775  There are plenty of restaurants, bars and othe...  ...   \n14776  Quartier agréable par son côté résidentiel et ...  ...   \n14777  One of the most beautiful neighborhoods in Par...  ...   \n14778                                                NaN  ...   \n14779  This is a residential neighborhood of Seattle ...  ...   \n\n      Review Scores Communication Review Scores Location Review Scores Value  \\\n0                            10.0                   10.0                10.0   \n1                            10.0                    8.0                10.0   \n2                             NaN                    NaN                 NaN   \n3                            10.0                   10.0                 9.0   \n4                             NaN                    NaN                 NaN   \n...                           ...                    ...                 ...   \n14775                        10.0                    9.0                10.0   \n14776                         NaN                    NaN                 NaN   \n14777                        10.0                   10.0                10.0   \n14778                        10.0                   10.0                10.0   \n14779                        10.0                   10.0                 9.0   \n\n           License Jurisdiction Names Cancellation Policy  \\\n0              NaN                NaN            moderate   \n1      HUTB-006721                NaN     super_strict_30   \n2      HUTB-007527                NaN     super_strict_30   \n3              NaN                NaN              strict   \n4              NaN                NaN            flexible   \n...            ...                ...                 ...   \n14775          NaN                NaN              strict   \n14776          NaN              Paris            flexible   \n14777          NaN                NaN              strict   \n14778          NaN                NaN            moderate   \n14779          NaN         WASHINGTON            flexible   \n\n      Calculated host listings count Reviews per Month  \\\n0                                1.0              3.50   \n1                              106.0              0.86   \n2                              106.0               NaN   \n3                               24.0              1.09   \n4                               92.0               NaN   \n...                              ...               ...   \n14775                            1.0              0.74   \n14776                            1.0               NaN   \n14777                            1.0              2.63   \n14778                            1.0              0.94   \n14779                            1.0              1.59   \n\n                        Geolocation  \\\n0      30.3373609355,-97.8632766782   \n1       41.3896829422,2.17262543017   \n2       41.3930345489,2.16217327868   \n3        41.3969668101,2.1674178103   \n4       41.3886851936,2.15514963616   \n...                             ...   \n14775    40.67894535,-73.9393421856   \n14776   48.8361969404,2.29404476423   \n14777   48.8888092157,2.31617315267   \n14778  39.7422046438,-104.959933049   \n14779  47.6723272189,-122.291451162   \n\n                                                Features  \n0      Host Is Superhost,Host Has Profile Pic,Host Id...  \n1      Host Has Profile Pic,Requires License,Instant ...  \n2      Host Has Profile Pic,Requires License,Instant ...  \n3      Host Has Profile Pic,Host Identity Verified,Re...  \n4      Host Has Profile Pic,Host Identity Verified,Is...  \n...                                                  ...  \n14775  Host Is Superhost,Host Has Profile Pic,Host Id...  \n14776  Host Has Profile Pic,Is Location Exact,Instant...  \n14777  Host Is Superhost,Host Has Profile Pic,Host Id...  \n14778  Host Has Profile Pic,Host Identity Verified,Is...  \n14779  Host Has Profile Pic,Host Identity Verified,Is...  \n\n[14780 rows x 89 columns]>"
     },
     "execution_count": 5,
     "metadata": {},
     "output_type": "execute_result"
    }
   ],
   "source": [
    "housing = load_airbnb_dataset('datasets')\n",
    "housing.head"
   ]
  },
  {
   "cell_type": "markdown",
   "execution_count": 21,
   "metadata": {},
   "outputs": [
    {
     "data": {
      "text/plain": [
       "0        11210388\n",
       "1        17471131\n",
       "2        17584891\n",
       "3         5398030\n",
       "4        18104606\n",
       "           ...   \n",
       "14775     2098030\n",
       "14776    17989442\n",
       "14777    13278634\n",
       "14778    10733941\n",
       "14779     4637801\n",
       "Name: ID, Length: 14780, dtype: int64"
      ]
     },
     "execution_count": 21,
     "metadata": {},
     "output_type": "execute_result"
    }
   ],
   "source": [
    "Al usar la instrucción **head** de Pandas, obtenemos una primera visión de los datos. \n",
    "\n",
    "Cada fila corresponde a un apartamento, la primera fila contiene los nombres de las columnas."
   ]
  },
  {
   "cell_type": "markdown",
   "execution_count": null,
   "metadata": {},
   "outputs": [],
   "source": [
    "# Estructura de los datos\n",
    "\n",
    "Con la instrucción **înfo** vemos una pequeña descripción de los datos."
   ]
  },
  {
   "cell_type": "code",
   "execution_count": 6,
   "metadata": {},
   "outputs": [
    {
     "name": "stdout",
     "output_type": "stream",
     "text": "<class 'pandas.core.frame.DataFrame'>\nRangeIndex: 14780 entries, 0 to 14779\nData columns (total 89 columns):\nID                                14780 non-null int64\nListing Url                       14780 non-null object\nScrape ID                         14780 non-null int64\nLast Scraped                      14780 non-null object\nName                              14779 non-null object\nSummary                           14189 non-null object\nSpace                             10888 non-null object\nDescription                       14774 non-null object\nExperiences Offered               14780 non-null object\nNeighborhood Overview             9134 non-null object\nNotes                             5644 non-null object\nTransit                           9066 non-null object\nAccess                            8318 non-null object\nInteraction                       8228 non-null object\nHouse Rules                       9619 non-null object\nThumbnail Url                     11960 non-null object\nMedium Url                        11960 non-null object\nPicture Url                       14761 non-null object\nXL Picture Url                    11960 non-null object\nHost ID                           14780 non-null int64\nHost URL                          14780 non-null object\nHost Name                         14777 non-null object\nHost Since                        14777 non-null object\nHost Location                     14737 non-null object\nHost About                        9539 non-null object\nHost Response Time                12881 non-null object\nHost Response Rate                12881 non-null float64\nHost Acceptance Rate              39 non-null object\nHost Thumbnail Url                14777 non-null object\nHost Picture Url                  14777 non-null object\nHost Neighbourhood                10904 non-null object\nHost Listings Count               14777 non-null float64\nHost Total Listings Count         14777 non-null float64\nHost Verifications                14774 non-null object\nStreet                            14780 non-null object\nNeighbourhood                     9551 non-null object\nNeighbourhood Cleansed            14780 non-null object\nNeighbourhood Group Cleansed      13760 non-null object\nCity                              14774 non-null object\nState                             14636 non-null object\nZipcode                           14274 non-null object\nMarket                            14723 non-null object\nSmart Location                    14780 non-null object\nCountry Code                      14780 non-null object\nCountry                           14779 non-null object\nLatitude                          14780 non-null float64\nLongitude                         14780 non-null float64\nProperty Type                     14780 non-null object\nRoom Type                         14780 non-null object\nAccommodates                      14780 non-null int64\nBathrooms                         14725 non-null float64\nBedrooms                          14755 non-null float64\nBeds                              14731 non-null float64\nBed Type                          14780 non-null object\nAmenities                         14610 non-null object\nSquare Feet                       598 non-null float64\nPrice                             14763 non-null float64\nWeekly Price                      3590 non-null float64\nMonthly Price                     3561 non-null float64\nSecurity Deposit                  6256 non-null float64\nCleaning Fee                      8687 non-null float64\nGuests Included                   14780 non-null int64\nExtra People                      14780 non-null int64\nMinimum Nights                    14780 non-null int64\nMaximum Nights                    14780 non-null int64\nCalendar Updated                  14780 non-null object\nHas Availability                  12 non-null object\nAvailability 30                   14780 non-null int64\nAvailability 60                   14780 non-null int64\nAvailability 90                   14780 non-null int64\nAvailability 365                  14780 non-null int64\nCalendar last Scraped             14780 non-null object\nNumber of Reviews                 14780 non-null int64\nFirst Review                      11618 non-null object\nLast Review                       11617 non-null object\nReview Scores Rating              11476 non-null float64\nReview Scores Accuracy            11454 non-null float64\nReview Scores Cleanliness         11460 non-null float64\nReview Scores Checkin             11443 non-null float64\nReview Scores Communication       11460 non-null float64\nReview Scores Location            11440 non-null float64\nReview Scores Value               11439 non-null float64\nLicense                           349 non-null object\nJurisdiction Names                227 non-null object\nCancellation Policy               14780 non-null object\nCalculated host listings count    14776 non-null float64\nReviews per Month                 11618 non-null float64\nGeolocation                       14780 non-null object\nFeatures                          14779 non-null object\ndtypes: float64(23), int64(13), object(53)\nmemory usage: 10.0+ MB\n"
    }
   ],
   "source": [
    "housing.info()"
   ]
  },
  {
   "cell_type": "markdown",
   "execution_count": null,
   "metadata": {},
   "outputs": [],
   "source": [
    "Vemos que tenemos un total de 89 variables y 14780 observaciones (muy pocas para los estándares de Machine Learning).\n",
    "\n",
    "Hay variables, por ejemplo **Has Availability** que solo tiene 12 valores no nulos.\n",
    "\n",
    "La variable a predecir **price** (de ahora en adelante **y**) tiene 14763 valores no nulos, por lo que hay 17 pisos sin precio.\n",
    "\n",
    "Hay muchas variables de tipo **object**, al leer desde un CSV, es posible que san variables de texto.\n",
    "\n",
    "Cuando hicimos el head, pudimos ver que la variable \"Cancellation Policy\" tiene valores repetitivos, por lo que podría ser categórica. Vamos a comprobar si hay más variables categóricas."
   ]
  },
  {
   "cell_type": "code",
   "execution_count": 9,
   "metadata": {},
   "outputs": [
    {
     "ename": "KeyError",
     "evalue": "1",
     "output_type": "error",
     "traceback": [
      "\u001b[1;31m---------------------------------------------------------------------------\u001b[0m",
      "\u001b[1;31mKeyError\u001b[0m                                  Traceback (most recent call last)",
      "\u001b[1;32mC:\\Proyectos_software\\virtualenvs\\clasML\\lib\\site-packages\\pandas\\core\\indexes\\base.py\u001b[0m in \u001b[0;36mget_loc\u001b[1;34m(self, key, method, tolerance)\u001b[0m\n\u001b[0;32m   2896\u001b[0m             \u001b[1;32mtry\u001b[0m\u001b[1;33m:\u001b[0m\u001b[1;33m\u001b[0m\u001b[1;33m\u001b[0m\u001b[0m\n\u001b[1;32m-> 2897\u001b[1;33m                 \u001b[1;32mreturn\u001b[0m \u001b[0mself\u001b[0m\u001b[1;33m.\u001b[0m\u001b[0m_engine\u001b[0m\u001b[1;33m.\u001b[0m\u001b[0mget_loc\u001b[0m\u001b[1;33m(\u001b[0m\u001b[0mkey\u001b[0m\u001b[1;33m)\u001b[0m\u001b[1;33m\u001b[0m\u001b[1;33m\u001b[0m\u001b[0m\n\u001b[0m\u001b[0;32m   2898\u001b[0m             \u001b[1;32mexcept\u001b[0m \u001b[0mKeyError\u001b[0m\u001b[1;33m:\u001b[0m\u001b[1;33m\u001b[0m\u001b[1;33m\u001b[0m\u001b[0m\n",
      "\u001b[1;32mpandas/_libs/index.pyx\u001b[0m in \u001b[0;36mpandas._libs.index.IndexEngine.get_loc\u001b[1;34m()\u001b[0m\n",
      "\u001b[1;32mpandas/_libs/index.pyx\u001b[0m in \u001b[0;36mpandas._libs.index.IndexEngine.get_loc\u001b[1;34m()\u001b[0m\n",
      "\u001b[1;32mpandas/_libs/hashtable_class_helper.pxi\u001b[0m in \u001b[0;36mpandas._libs.hashtable.PyObjectHashTable.get_item\u001b[1;34m()\u001b[0m\n",
      "\u001b[1;32mpandas/_libs/hashtable_class_helper.pxi\u001b[0m in \u001b[0;36mpandas._libs.hashtable.PyObjectHashTable.get_item\u001b[1;34m()\u001b[0m\n",
      "\u001b[1;31mKeyError\u001b[0m: 1",
      "\nDuring handling of the above exception, another exception occurred:\n",
      "\u001b[1;31mKeyError\u001b[0m                                  Traceback (most recent call last)",
      "\u001b[1;32m<ipython-input-9-91f5371e86a8>\u001b[0m in \u001b[0;36m<module>\u001b[1;34m\u001b[0m\n\u001b[1;32m----> 1\u001b[1;33m \u001b[0mprint\u001b[0m\u001b[1;33m(\u001b[0m\u001b[0mhousing\u001b[0m\u001b[1;33m[\u001b[0m\u001b[1;36m1\u001b[0m\u001b[1;33m]\u001b[0m\u001b[1;33m[\u001b[0m\u001b[1;36m1\u001b[0m\u001b[1;33m]\u001b[0m\u001b[1;33m)\u001b[0m\u001b[1;33m\u001b[0m\u001b[1;33m\u001b[0m\u001b[0m\n\u001b[0m",
      "\u001b[1;32mC:\\Proyectos_software\\virtualenvs\\clasML\\lib\\site-packages\\pandas\\core\\frame.py\u001b[0m in \u001b[0;36m__getitem__\u001b[1;34m(self, key)\u001b[0m\n\u001b[0;32m   2993\u001b[0m             \u001b[1;32mif\u001b[0m \u001b[0mself\u001b[0m\u001b[1;33m.\u001b[0m\u001b[0mcolumns\u001b[0m\u001b[1;33m.\u001b[0m\u001b[0mnlevels\u001b[0m \u001b[1;33m>\u001b[0m \u001b[1;36m1\u001b[0m\u001b[1;33m:\u001b[0m\u001b[1;33m\u001b[0m\u001b[1;33m\u001b[0m\u001b[0m\n\u001b[0;32m   2994\u001b[0m                 \u001b[1;32mreturn\u001b[0m \u001b[0mself\u001b[0m\u001b[1;33m.\u001b[0m\u001b[0m_getitem_multilevel\u001b[0m\u001b[1;33m(\u001b[0m\u001b[0mkey\u001b[0m\u001b[1;33m)\u001b[0m\u001b[1;33m\u001b[0m\u001b[1;33m\u001b[0m\u001b[0m\n\u001b[1;32m-> 2995\u001b[1;33m             \u001b[0mindexer\u001b[0m \u001b[1;33m=\u001b[0m \u001b[0mself\u001b[0m\u001b[1;33m.\u001b[0m\u001b[0mcolumns\u001b[0m\u001b[1;33m.\u001b[0m\u001b[0mget_loc\u001b[0m\u001b[1;33m(\u001b[0m\u001b[0mkey\u001b[0m\u001b[1;33m)\u001b[0m\u001b[1;33m\u001b[0m\u001b[1;33m\u001b[0m\u001b[0m\n\u001b[0m\u001b[0;32m   2996\u001b[0m             \u001b[1;32mif\u001b[0m \u001b[0mis_integer\u001b[0m\u001b[1;33m(\u001b[0m\u001b[0mindexer\u001b[0m\u001b[1;33m)\u001b[0m\u001b[1;33m:\u001b[0m\u001b[1;33m\u001b[0m\u001b[1;33m\u001b[0m\u001b[0m\n\u001b[0;32m   2997\u001b[0m                 \u001b[0mindexer\u001b[0m \u001b[1;33m=\u001b[0m \u001b[1;33m[\u001b[0m\u001b[0mindexer\u001b[0m\u001b[1;33m]\u001b[0m\u001b[1;33m\u001b[0m\u001b[1;33m\u001b[0m\u001b[0m\n",
      "\u001b[1;32mC:\\Proyectos_software\\virtualenvs\\clasML\\lib\\site-packages\\pandas\\core\\indexes\\base.py\u001b[0m in \u001b[0;36mget_loc\u001b[1;34m(self, key, method, tolerance)\u001b[0m\n\u001b[0;32m   2897\u001b[0m                 \u001b[1;32mreturn\u001b[0m \u001b[0mself\u001b[0m\u001b[1;33m.\u001b[0m\u001b[0m_engine\u001b[0m\u001b[1;33m.\u001b[0m\u001b[0mget_loc\u001b[0m\u001b[1;33m(\u001b[0m\u001b[0mkey\u001b[0m\u001b[1;33m)\u001b[0m\u001b[1;33m\u001b[0m\u001b[1;33m\u001b[0m\u001b[0m\n\u001b[0;32m   2898\u001b[0m             \u001b[1;32mexcept\u001b[0m \u001b[0mKeyError\u001b[0m\u001b[1;33m:\u001b[0m\u001b[1;33m\u001b[0m\u001b[1;33m\u001b[0m\u001b[0m\n\u001b[1;32m-> 2899\u001b[1;33m                 \u001b[1;32mreturn\u001b[0m \u001b[0mself\u001b[0m\u001b[1;33m.\u001b[0m\u001b[0m_engine\u001b[0m\u001b[1;33m.\u001b[0m\u001b[0mget_loc\u001b[0m\u001b[1;33m(\u001b[0m\u001b[0mself\u001b[0m\u001b[1;33m.\u001b[0m\u001b[0m_maybe_cast_indexer\u001b[0m\u001b[1;33m(\u001b[0m\u001b[0mkey\u001b[0m\u001b[1;33m)\u001b[0m\u001b[1;33m)\u001b[0m\u001b[1;33m\u001b[0m\u001b[1;33m\u001b[0m\u001b[0m\n\u001b[0m\u001b[0;32m   2900\u001b[0m         \u001b[0mindexer\u001b[0m \u001b[1;33m=\u001b[0m \u001b[0mself\u001b[0m\u001b[1;33m.\u001b[0m\u001b[0mget_indexer\u001b[0m\u001b[1;33m(\u001b[0m\u001b[1;33m[\u001b[0m\u001b[0mkey\u001b[0m\u001b[1;33m]\u001b[0m\u001b[1;33m,\u001b[0m \u001b[0mmethod\u001b[0m\u001b[1;33m=\u001b[0m\u001b[0mmethod\u001b[0m\u001b[1;33m,\u001b[0m \u001b[0mtolerance\u001b[0m\u001b[1;33m=\u001b[0m\u001b[0mtolerance\u001b[0m\u001b[1;33m)\u001b[0m\u001b[1;33m\u001b[0m\u001b[1;33m\u001b[0m\u001b[0m\n\u001b[0;32m   2901\u001b[0m         \u001b[1;32mif\u001b[0m \u001b[0mindexer\u001b[0m\u001b[1;33m.\u001b[0m\u001b[0mndim\u001b[0m \u001b[1;33m>\u001b[0m \u001b[1;36m1\u001b[0m \u001b[1;32mor\u001b[0m \u001b[0mindexer\u001b[0m\u001b[1;33m.\u001b[0m\u001b[0msize\u001b[0m \u001b[1;33m>\u001b[0m \u001b[1;36m1\u001b[0m\u001b[1;33m:\u001b[0m\u001b[1;33m\u001b[0m\u001b[1;33m\u001b[0m\u001b[0m\n",
      "\u001b[1;32mpandas/_libs/index.pyx\u001b[0m in \u001b[0;36mpandas._libs.index.IndexEngine.get_loc\u001b[1;34m()\u001b[0m\n",
      "\u001b[1;32mpandas/_libs/index.pyx\u001b[0m in \u001b[0;36mpandas._libs.index.IndexEngine.get_loc\u001b[1;34m()\u001b[0m\n",
      "\u001b[1;32mpandas/_libs/hashtable_class_helper.pxi\u001b[0m in \u001b[0;36mpandas._libs.hashtable.PyObjectHashTable.get_item\u001b[1;34m()\u001b[0m\n",
      "\u001b[1;32mpandas/_libs/hashtable_class_helper.pxi\u001b[0m in \u001b[0;36mpandas._libs.hashtable.PyObjectHashTable.get_item\u001b[1;34m()\u001b[0m\n",
      "\u001b[1;31mKeyError\u001b[0m: 1"
     ]
    }
   ],
   "source": [
    "# Hacer array para mostrar el value counts de cada una de las variable\n",
    "print(housing[1][1])"
   ]
  },
  {
   "cell_type": "code",
   "execution_count": 7,
   "metadata": {},
   "outputs": [
    {
     "data": {
      "text/html": "<div>\n<style scoped>\n    .dataframe tbody tr th:only-of-type {\n        vertical-align: middle;\n    }\n\n    .dataframe tbody tr th {\n        vertical-align: top;\n    }\n\n    .dataframe thead th {\n        text-align: right;\n    }\n</style>\n<table border=\"1\" class=\"dataframe\">\n  <thead>\n    <tr style=\"text-align: right;\">\n      <th></th>\n      <th>ID</th>\n      <th>Scrape ID</th>\n      <th>Host ID</th>\n      <th>Host Response Rate</th>\n      <th>Host Listings Count</th>\n      <th>Host Total Listings Count</th>\n      <th>Latitude</th>\n      <th>Longitude</th>\n      <th>Accommodates</th>\n      <th>Bathrooms</th>\n      <th>...</th>\n      <th>Number of Reviews</th>\n      <th>Review Scores Rating</th>\n      <th>Review Scores Accuracy</th>\n      <th>Review Scores Cleanliness</th>\n      <th>Review Scores Checkin</th>\n      <th>Review Scores Communication</th>\n      <th>Review Scores Location</th>\n      <th>Review Scores Value</th>\n      <th>Calculated host listings count</th>\n      <th>Reviews per Month</th>\n    </tr>\n  </thead>\n  <tbody>\n    <tr>\n      <th>count</th>\n      <td>1.478000e+04</td>\n      <td>1.478000e+04</td>\n      <td>1.478000e+04</td>\n      <td>12881.000000</td>\n      <td>14777.000000</td>\n      <td>14777.000000</td>\n      <td>14780.000000</td>\n      <td>14780.000000</td>\n      <td>14780.000000</td>\n      <td>14725.000000</td>\n      <td>...</td>\n      <td>14780.000000</td>\n      <td>11476.000000</td>\n      <td>11454.000000</td>\n      <td>11460.000000</td>\n      <td>11443.000000</td>\n      <td>11460.000000</td>\n      <td>11440.000000</td>\n      <td>11439.000000</td>\n      <td>14776.000000</td>\n      <td>11618.000000</td>\n    </tr>\n    <tr>\n      <th>mean</th>\n      <td>1.028089e+07</td>\n      <td>2.017037e+13</td>\n      <td>3.608080e+07</td>\n      <td>94.823461</td>\n      <td>12.513636</td>\n      <td>12.513636</td>\n      <td>40.497626</td>\n      <td>-3.858041</td>\n      <td>3.277808</td>\n      <td>1.281732</td>\n      <td>...</td>\n      <td>22.632273</td>\n      <td>91.697978</td>\n      <td>9.416012</td>\n      <td>9.328883</td>\n      <td>9.621778</td>\n      <td>9.647033</td>\n      <td>9.532168</td>\n      <td>9.218201</td>\n      <td>9.486871</td>\n      <td>1.870014</td>\n    </tr>\n    <tr>\n      <th>std</th>\n      <td>5.564829e+06</td>\n      <td>5.667971e+08</td>\n      <td>3.425360e+07</td>\n      <td>15.215988</td>\n      <td>34.090223</td>\n      <td>34.090223</td>\n      <td>4.641387</td>\n      <td>14.123146</td>\n      <td>2.097291</td>\n      <td>0.658517</td>\n      <td>...</td>\n      <td>38.290244</td>\n      <td>8.989101</td>\n      <td>0.921938</td>\n      <td>0.989933</td>\n      <td>0.802736</td>\n      <td>0.767116</td>\n      <td>0.774527</td>\n      <td>0.950578</td>\n      <td>23.626014</td>\n      <td>1.867550</td>\n    </tr>\n    <tr>\n      <th>min</th>\n      <td>1.862800e+04</td>\n      <td>2.016010e+13</td>\n      <td>1.745300e+04</td>\n      <td>0.000000</td>\n      <td>0.000000</td>\n      <td>0.000000</td>\n      <td>-37.851182</td>\n      <td>-123.131344</td>\n      <td>1.000000</td>\n      <td>0.000000</td>\n      <td>...</td>\n      <td>0.000000</td>\n      <td>20.000000</td>\n      <td>2.000000</td>\n      <td>2.000000</td>\n      <td>2.000000</td>\n      <td>2.000000</td>\n      <td>2.000000</td>\n      <td>2.000000</td>\n      <td>1.000000</td>\n      <td>0.020000</td>\n    </tr>\n    <tr>\n      <th>25%</th>\n      <td>5.554732e+06</td>\n      <td>2.017041e+13</td>\n      <td>6.787360e+06</td>\n      <td>100.000000</td>\n      <td>1.000000</td>\n      <td>1.000000</td>\n      <td>40.409726</td>\n      <td>-3.707604</td>\n      <td>2.000000</td>\n      <td>1.000000</td>\n      <td>...</td>\n      <td>1.000000</td>\n      <td>89.000000</td>\n      <td>9.000000</td>\n      <td>9.000000</td>\n      <td>9.000000</td>\n      <td>9.000000</td>\n      <td>9.000000</td>\n      <td>9.000000</td>\n      <td>1.000000</td>\n      <td>0.450000</td>\n    </tr>\n    <tr>\n      <th>50%</th>\n      <td>1.133492e+07</td>\n      <td>2.017041e+13</td>\n      <td>2.464875e+07</td>\n      <td>100.000000</td>\n      <td>2.000000</td>\n      <td>2.000000</td>\n      <td>40.419466</td>\n      <td>-3.700785</td>\n      <td>3.000000</td>\n      <td>1.000000</td>\n      <td>...</td>\n      <td>7.000000</td>\n      <td>94.000000</td>\n      <td>10.000000</td>\n      <td>10.000000</td>\n      <td>10.000000</td>\n      <td>10.000000</td>\n      <td>10.000000</td>\n      <td>9.000000</td>\n      <td>2.000000</td>\n      <td>1.200000</td>\n    </tr>\n    <tr>\n      <th>75%</th>\n      <td>1.532631e+07</td>\n      <td>2.017041e+13</td>\n      <td>5.432919e+07</td>\n      <td>100.000000</td>\n      <td>6.000000</td>\n      <td>6.000000</td>\n      <td>40.430916</td>\n      <td>-3.684057</td>\n      <td>4.000000</td>\n      <td>1.000000</td>\n      <td>...</td>\n      <td>27.000000</td>\n      <td>98.000000</td>\n      <td>10.000000</td>\n      <td>10.000000</td>\n      <td>10.000000</td>\n      <td>10.000000</td>\n      <td>10.000000</td>\n      <td>10.000000</td>\n      <td>5.000000</td>\n      <td>2.780000</td>\n    </tr>\n    <tr>\n      <th>max</th>\n      <td>1.910969e+07</td>\n      <td>2.017062e+13</td>\n      <td>1.247534e+08</td>\n      <td>100.000000</td>\n      <td>519.000000</td>\n      <td>519.000000</td>\n      <td>55.966912</td>\n      <td>153.371427</td>\n      <td>16.000000</td>\n      <td>8.000000</td>\n      <td>...</td>\n      <td>446.000000</td>\n      <td>100.000000</td>\n      <td>10.000000</td>\n      <td>10.000000</td>\n      <td>10.000000</td>\n      <td>10.000000</td>\n      <td>10.000000</td>\n      <td>10.000000</td>\n      <td>145.000000</td>\n      <td>17.210000</td>\n    </tr>\n  </tbody>\n</table>\n<p>8 rows × 36 columns</p>\n</div>",
      "text/plain": "                 ID     Scrape ID       Host ID  Host Response Rate  \\\ncount  1.478000e+04  1.478000e+04  1.478000e+04        12881.000000   \nmean   1.028089e+07  2.017037e+13  3.608080e+07           94.823461   \nstd    5.564829e+06  5.667971e+08  3.425360e+07           15.215988   \nmin    1.862800e+04  2.016010e+13  1.745300e+04            0.000000   \n25%    5.554732e+06  2.017041e+13  6.787360e+06          100.000000   \n50%    1.133492e+07  2.017041e+13  2.464875e+07          100.000000   \n75%    1.532631e+07  2.017041e+13  5.432919e+07          100.000000   \nmax    1.910969e+07  2.017062e+13  1.247534e+08          100.000000   \n\n       Host Listings Count  Host Total Listings Count      Latitude  \\\ncount         14777.000000               14777.000000  14780.000000   \nmean             12.513636                  12.513636     40.497626   \nstd              34.090223                  34.090223      4.641387   \nmin               0.000000                   0.000000    -37.851182   \n25%               1.000000                   1.000000     40.409726   \n50%               2.000000                   2.000000     40.419466   \n75%               6.000000                   6.000000     40.430916   \nmax             519.000000                 519.000000     55.966912   \n\n          Longitude  Accommodates     Bathrooms  ...  Number of Reviews  \\\ncount  14780.000000  14780.000000  14725.000000  ...       14780.000000   \nmean      -3.858041      3.277808      1.281732  ...          22.632273   \nstd       14.123146      2.097291      0.658517  ...          38.290244   \nmin     -123.131344      1.000000      0.000000  ...           0.000000   \n25%       -3.707604      2.000000      1.000000  ...           1.000000   \n50%       -3.700785      3.000000      1.000000  ...           7.000000   \n75%       -3.684057      4.000000      1.000000  ...          27.000000   \nmax      153.371427     16.000000      8.000000  ...         446.000000   \n\n       Review Scores Rating  Review Scores Accuracy  \\\ncount          11476.000000            11454.000000   \nmean              91.697978                9.416012   \nstd                8.989101                0.921938   \nmin               20.000000                2.000000   \n25%               89.000000                9.000000   \n50%               94.000000               10.000000   \n75%               98.000000               10.000000   \nmax              100.000000               10.000000   \n\n       Review Scores Cleanliness  Review Scores Checkin  \\\ncount               11460.000000           11443.000000   \nmean                    9.328883               9.621778   \nstd                     0.989933               0.802736   \nmin                     2.000000               2.000000   \n25%                     9.000000               9.000000   \n50%                    10.000000              10.000000   \n75%                    10.000000              10.000000   \nmax                    10.000000              10.000000   \n\n       Review Scores Communication  Review Scores Location  \\\ncount                 11460.000000            11440.000000   \nmean                      9.647033                9.532168   \nstd                       0.767116                0.774527   \nmin                       2.000000                2.000000   \n25%                       9.000000                9.000000   \n50%                      10.000000               10.000000   \n75%                      10.000000               10.000000   \nmax                      10.000000               10.000000   \n\n       Review Scores Value  Calculated host listings count  Reviews per Month  \ncount         11439.000000                    14776.000000       11618.000000  \nmean              9.218201                        9.486871           1.870014  \nstd               0.950578                       23.626014           1.867550  \nmin               2.000000                        1.000000           0.020000  \n25%               9.000000                        1.000000           0.450000  \n50%               9.000000                        2.000000           1.200000  \n75%              10.000000                        5.000000           2.780000  \nmax              10.000000                      145.000000          17.210000  \n\n[8 rows x 36 columns]"
     },
     "execution_count": 7,
     "metadata": {},
     "output_type": "execute_result"
    }
   ],
   "source": [
    "housing.describe()"
   ]
  },
  {
   "cell_type": "code",
   "execution_count": null,
   "metadata": {},
   "outputs": [],
   "source": []
  }
 ],
 "metadata": {
  "kernelspec": {
   "display_name": "Python 3",
   "language": "python",
   "name": "python3"
  },
  "language_info": {
   "codemirror_mode": {
    "name": "ipython",
    "version": 3
   },
   "file_extension": ".py",
   "mimetype": "text/x-python",
   "name": "python",
   "nbconvert_exporter": "python",
   "pygments_lexer": "ipython3",
   "version": "3.7.4"
  }
 },
 "nbformat": 4,
 "nbformat_minor": 2
}